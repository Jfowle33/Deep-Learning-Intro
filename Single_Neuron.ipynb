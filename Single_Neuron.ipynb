{
 "cells": [
  {
   "cell_type": "markdown",
   "id": "03177d79",
   "metadata": {},
   "source": [
    " Python program to implement a single neuron neural network."
   ]
  },
  {
   "cell_type": "markdown",
   "id": "e8fda38a",
   "metadata": {},
   "source": [
    "We begin our journey by importing the necessary libraries."
   ]
  },
  {
   "cell_type": "code",
   "execution_count": 2,
   "id": "3d8f460e",
   "metadata": {},
   "outputs": [],
   "source": [
    "from numpy import array, random, dot, tanh"
   ]
  },
  {
   "cell_type": "markdown",
   "id": "4298fd9f",
   "metadata": {},
   "source": [
    "Class to create a neural network with single neuron"
   ]
  },
  {
   "cell_type": "code",
   "execution_count": 14,
   "id": "2937a9c5",
   "metadata": {},
   "outputs": [
    {
     "name": "stdout",
     "output_type": "stream",
     "text": [
      "Random Weights at the start of training\n",
      "[[-0.16595599]\n",
      " [ 0.44064899]\n",
      " [-0.99977125]]\n"
     ]
    }
   ],
   "source": [
    "class NeuralNetworkSample():\n",
    "    def __init__(self):\n",
    "        # Using seed to make sure it'll generate same weights in every run\n",
    "        random.seed(1)\n",
    "        # 3x1 Weight matrix\n",
    "        self.weight_matrix = 2 * random.random((3,1)) - 1\n",
    "       # tanh as activation function \n",
    "    def tanh(self, x):\n",
    "        return tanh(x)\n",
    "        # derivative of tanh function. Needed to calculate the gradients.\n",
    "    def tanh_derivative(self, x):\n",
    "        return 1.0 - tanh(x) ** 2\n",
    "        \n",
    "    def forward_propagation(self, inputs):\n",
    "        return self.tanh(dot(inputs, self.weight_matrix))\n",
    "        \n",
    "    def train(self, train_inputs, train_outputs,\n",
    "                            num_train_iterations):\n",
    "        # Number of iterations we want to perform for this set of input.\n",
    "        for iteration in range(num_train_iterations):\n",
    "                \n",
    "            output = self.forward_propagation(train_inputs)\n",
    "                # Calculate the error in the output.\n",
    "            error = train_outputs - output\n",
    "                \n",
    "            adjustment = dot(train_inputs.T, error * self.tanh_derivative(output))\n",
    " # multiply the error by input and then by gradient of tanh function to calculate the adjustment needs to be made in weights               \n",
    "            self.weight_matrix += adjustment\n",
    "            \n",
    "if __name__ == \"__main__\":\n",
    "    \n",
    "    neural_network = NeuralNetworkSample()\n",
    "    \n",
    "    print(\"Random Weights at the start of training\")\n",
    "    print(neural_network.weight_matrix)\n",
    "    \n",
    "    train_inputs = array([[0,0,1], [1,1,1], [1,0,1], [0,1,1]])\n",
    "    train_outputs = array([[0,1,1,0]]).T\n",
    "    \n",
    "    neural_network.train(train_inputs, train_outputs, 1000)"
   ]
  },
  {
   "cell_type": "code",
   "execution_count": 15,
   "id": "bc85b7f9",
   "metadata": {},
   "outputs": [
    {
     "name": "stdout",
     "output_type": "stream",
     "text": [
      "New weights after training\n",
      "[[4.24710821]\n",
      " [0.19547799]\n",
      " [0.34384183]]\n"
     ]
    }
   ],
   "source": [
    "print(\"New weights after training\")\n",
    "print(neural_network.weight_matrix)"
   ]
  },
  {
   "cell_type": "code",
   "execution_count": 16,
   "id": "3f04ffaa",
   "metadata": {},
   "outputs": [
    {
     "name": "stdout",
     "output_type": "stream",
     "text": [
      "Testing network on new example ->\n",
      "[0.99959079]\n"
     ]
    }
   ],
   "source": [
    "print(\"Testing network on new example ->\")\n",
    "print(neural_network.forward_propagation(array([1,0,0])))"
   ]
  }
 ],
 "metadata": {
  "kernelspec": {
   "display_name": "Python 3 (ipykernel)",
   "language": "python",
   "name": "python3"
  },
  "language_info": {
   "codemirror_mode": {
    "name": "ipython",
    "version": 3
   },
   "file_extension": ".py",
   "mimetype": "text/x-python",
   "name": "python",
   "nbconvert_exporter": "python",
   "pygments_lexer": "ipython3",
   "version": "3.7.13"
  }
 },
 "nbformat": 4,
 "nbformat_minor": 5
}
